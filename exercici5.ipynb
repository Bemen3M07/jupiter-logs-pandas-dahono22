{
 "cells": [
  {
   "cell_type": "code",
   "execution_count": null,
   "id": "6c1b35f2-a868-4d86-ab91-bbf0ea1ff0f9",
   "metadata": {},
   "outputs": [],
   "source": [
    "Exercici 5: Processament de dades\n",
    "Amb el fitxer generat, faré càlculs com:\n",
    "\n",
    "Mitjana per alumne.\n",
    "Mitjana global.\n",
    "Percentatge d'aprovats/suspesos.\n",
    "Notes més altes i més baixes."
   ]
  },
  {
   "cell_type": "code",
   "execution_count": 1,
   "id": "3a92806c-c959-4ff4-a416-45b55e085893",
   "metadata": {},
   "outputs": [
    {
     "name": "stdout",
     "output_type": "stream",
     "text": [
      "Mitjana global: 6.5\n",
      "Percentatge d'aprovats: 100.0%\n",
      "Nota més alta: 10.0, Nota més baixa: 3.0\n"
     ]
    }
   ],
   "source": [
    "import pandas as pd\n",
    "\n",
    "# Llegir dades\n",
    "df = pd.read_csv('dades.csv')\n",
    "\n",
    "# Mitjana per alumne\n",
    "df['Mitjana'] = df.iloc[:, 1:].mean(axis=1)\n",
    "\n",
    "# Percentatge d'aprovats\n",
    "aprovats = (df['Mitjana'] >= 5).mean() * 100\n",
    "\n",
    "# Notes més alta i baixa\n",
    "nota_max = df.iloc[:, 1:].max().max()\n",
    "nota_min = df.iloc[:, 1:].min().min()\n",
    "\n",
    "print(f\"Mitjana global: {df['Mitjana'].mean()}\")\n",
    "print(f\"Percentatge d'aprovats: {aprovats}%\")\n",
    "print(f\"Nota més alta: {nota_max}, Nota més baixa: {nota_min}\")\n"
   ]
  },
  {
   "cell_type": "code",
   "execution_count": null,
   "id": "37d2a49d-9cdd-4e18-9764-5a45976fc7e3",
   "metadata": {},
   "outputs": [],
   "source": []
  }
 ],
 "metadata": {
  "kernelspec": {
   "display_name": "Python 3 (ipykernel)",
   "language": "python",
   "name": "python3"
  },
  "language_info": {
   "codemirror_mode": {
    "name": "ipython",
    "version": 3
   },
   "file_extension": ".py",
   "mimetype": "text/x-python",
   "name": "python",
   "nbconvert_exporter": "python",
   "pygments_lexer": "ipython3",
   "version": "3.12.1"
  }
 },
 "nbformat": 4,
 "nbformat_minor": 5
}
