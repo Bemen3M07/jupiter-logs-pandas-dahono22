{
 "cells": [
  {
   "cell_type": "code",
   "execution_count": 2,
   "id": "6b58405b-b79b-4cbe-bf1e-293cd29ff00b",
   "metadata": {},
   "outputs": [
    {
     "name": "stdout",
     "output_type": "stream",
     "text": [
      "        Nota_M01  Nota_M04  Nota_M03  Nota_M05\n",
      "count   3.000000  3.000000  3.000000  3.000000\n",
      "mean    8.333333  5.666667  5.333333  6.666667\n",
      "std     1.527525  3.055050  0.577350  2.309401\n",
      "min     7.000000  3.000000  5.000000  4.000000\n",
      "25%     7.500000  4.000000  5.000000  6.000000\n",
      "50%     8.000000  5.000000  5.000000  8.000000\n",
      "75%     9.000000  7.000000  5.500000  8.000000\n",
      "max    10.000000  9.000000  6.000000  8.000000\n"
     ]
    }
   ],
   "source": [
    "import pandas as pd\n",
    "\n",
    "# Llegir un fitxer CSV\n",
    "df = pd.read_csv('dades.csv')\n",
    "\n",
    "# Mostrar informació\n",
    "print(df.describe())\n"
   ]
  },
  {
   "cell_type": "code",
   "execution_count": null,
   "id": "38059056-5583-49d9-850d-eac866c5e606",
   "metadata": {},
   "outputs": [],
   "source": []
  },
  {
   "cell_type": "code",
   "execution_count": null,
   "id": "86d3b8ae-98ca-42c7-9d0c-a9d956da368d",
   "metadata": {},
   "outputs": [],
   "source": []
  }
 ],
 "metadata": {
  "kernelspec": {
   "display_name": "Python 3 (ipykernel)",
   "language": "python",
   "name": "python3"
  },
  "language_info": {
   "codemirror_mode": {
    "name": "ipython",
    "version": 3
   },
   "file_extension": ".py",
   "mimetype": "text/x-python",
   "name": "python",
   "nbconvert_exporter": "python",
   "pygments_lexer": "ipython3",
   "version": "3.12.1"
  }
 },
 "nbformat": 4,
 "nbformat_minor": 5
}
