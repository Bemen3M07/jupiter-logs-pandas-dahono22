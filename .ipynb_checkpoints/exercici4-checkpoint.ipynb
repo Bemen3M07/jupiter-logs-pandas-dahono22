{
 "cells": [
  {
   "cell_type": "code",
   "execution_count": 3,
   "id": "81d1c35b-cf31-4d1f-956e-df8b792352f4",
   "metadata": {},
   "outputs": [],
   "source": [
    "import csv\n",
    "\n",
    "dades = [\n",
    "    ['Nom', 'Nota_M01', 'Nota_M04', 'Nota_M03', 'Nota_M05'],\n",
    "    ['Emili', 7, 9, 5, 8],\n",
    "    ['Mario', 10, 3, 5, 8],\n",
    "    ['Steven', 8, 5, 6, 4],\n",
    "    # Afegeix més registres aquí\n",
    "]\n",
    "\n",
    "with open('dades.csv', 'w', newline='') as fitxer:\n",
    "    writer = csv.writer(fitxer)\n",
    "    writer.writerows(dades)\n"
   ]
  }
 ],
 "metadata": {
  "kernelspec": {
   "display_name": "Python 3 (ipykernel)",
   "language": "python",
   "name": "python3"
  },
  "language_info": {
   "codemirror_mode": {
    "name": "ipython",
    "version": 3
   },
   "file_extension": ".py",
   "mimetype": "text/x-python",
   "name": "python",
   "nbconvert_exporter": "python",
   "pygments_lexer": "ipython3",
   "version": "3.12.1"
  }
 },
 "nbformat": 4,
 "nbformat_minor": 5
}
