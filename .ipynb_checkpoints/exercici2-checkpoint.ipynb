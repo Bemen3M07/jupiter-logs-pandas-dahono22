{
 "cells": [
  {
   "cell_type": "code",
   "execution_count": 6,
   "id": "6b58405b-b79b-4cbe-bf1e-293cd29ff00b",
   "metadata": {},
   "outputs": [
    {
     "name": "stderr",
     "output_type": "stream",
     "text": [
      "Aquest és un missatge d'info.\n",
      "Aquest és un missatge d'info.\n",
      "Aquest és un missatge d'info.\n",
      "Aquest és un missatge d'info.\n",
      "Aquest és un missatge d'error.\n",
      "Aquest és un missatge d'error.\n",
      "Aquest és un missatge d'error.\n",
      "Aquest és un missatge d'error.\n"
     ]
    }
   ],
   "source": [
    "import logging\n",
    "\n",
    "# Configuració del logger\n",
    "logger = logging.getLogger('my_logger')\n",
    "logger.setLevel(logging.DEBUG)\n",
    "\n",
    "# Handler per a fitxer d'errors\n",
    "error_handler = logging.FileHandler('errors.log')\n",
    "error_handler.setLevel(logging.ERROR)\n",
    "\n",
    "# Handler per a fitxer d'informació\n",
    "info_handler = logging.FileHandler('info.log')\n",
    "info_handler.setLevel(logging.INFO)\n",
    "\n",
    "# Afegir els handlers al logger\n",
    "logger.addHandler(error_handler)\n",
    "logger.addHandler(info_handler)\n",
    "\n",
    "# Missatges d'exemple\n",
    "logger.info('Aquest és un missatge d\\'info.')\n",
    "logger.error('Aquest és un missatge d\\'error.')\n",
    "\n",
    "# Handler per a la terminal\n",
    "console_handler = logging.StreamHandler()\n",
    "console_handler.setLevel(logging.INFO)\n",
    "\n",
    "logger.addHandler(console_handler)\n"
   ]
  }
 ],
 "metadata": {
  "kernelspec": {
   "display_name": "Python 3 (ipykernel)",
   "language": "python",
   "name": "python3"
  },
  "language_info": {
   "codemirror_mode": {
    "name": "ipython",
    "version": 3
   },
   "file_extension": ".py",
   "mimetype": "text/x-python",
   "name": "python",
   "nbconvert_exporter": "python",
   "pygments_lexer": "ipython3",
   "version": "3.12.1"
  }
 },
 "nbformat": 4,
 "nbformat_minor": 5
}
