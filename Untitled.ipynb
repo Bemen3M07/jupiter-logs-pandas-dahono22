{
 "cells": [
  {
   "cell_type": "code",
   "execution_count": null,
   "id": "040f51de-7edf-4368-9965-c28f95f968d3",
   "metadata": {},
   "outputs": [],
   "source": [
    "Exercici 1:\n",
    "\n",
    "a. Jupyter: Aplicació web per crear i compartir documents amb codi en viu, equacions i visualitzacions.\n",
    "\n",
    "b. Anaconda: Distribució de Python i R amb paquets per a ciència de dades i machine learning.\n",
    "\n",
    "c. Paquet logging: Biblioteca de Python per crear registres (logs) en aplicacions.\n"
   ]
  },
  {
   "cell_type": "code",
   "execution_count": null,
   "id": "1c769d62-1fa7-4eee-a605-b320f916405b",
   "metadata": {},
   "outputs": [],
   "source": [
    "Exercici 2:\n",
    "\n",
    "Implementar un log en un programa és essencial per diverses raons.\n",
    "\n",
    "Depuració: Identificar i solucionar errors.\n",
    "\n",
    "Monitorització: Controlar el rendiment en temps real.\n",
    "\n",
    "Auditoria: Registrar accions per a revisions futures."
   ]
  }
 ],
 "metadata": {
  "kernelspec": {
   "display_name": "Python 3 (ipykernel)",
   "language": "python",
   "name": "python3"
  },
  "language_info": {
   "codemirror_mode": {
    "name": "ipython",
    "version": 3
   },
   "file_extension": ".py",
   "mimetype": "text/x-python",
   "name": "python",
   "nbconvert_exporter": "python",
   "pygments_lexer": "ipython3",
   "version": "3.12.1"
  }
 },
 "nbformat": 4,
 "nbformat_minor": 5
}
