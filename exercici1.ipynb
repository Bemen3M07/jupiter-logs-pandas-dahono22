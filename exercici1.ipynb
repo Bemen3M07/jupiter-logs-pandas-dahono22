{
 "cells": [
  {
   "cell_type": "code",
   "execution_count": null,
   "id": "040f51de-7edf-4368-9965-c28f95f968d3",
   "metadata": {},
   "outputs": [],
   "source": [
    "Exercici 1: Anàlisi de logs amb comandes Linux\n",
    "\n",
    "Veure contínuament els logs que es van escrivint a un arxiu:\n",
    "Comanda:\n",
    "tail -f nom_del_fitxer.log\n",
    "\n",
    "Aquesta comanda mostra els nous registres en temps real.\n",
    "\n",
    "\n",
    "Cercar una paraula concreta dins d’un arxiu de log:\n",
    "Comanda:\n",
    "grep \"paraula_clau\" nom_del_fitxer.log\n",
    "\n",
    "Si vols veure les línies amb context:\n",
    "grep -C 5 \"paraula_clau\" nom_del_fitxer.log\n",
    "Això mostra 5 línies abans i després de cada coincidència.\n"
   ]
  }
 ],
 "metadata": {
  "kernelspec": {
   "display_name": "Python 3 (ipykernel)",
   "language": "python",
   "name": "python3"
  },
  "language_info": {
   "codemirror_mode": {
    "name": "ipython",
    "version": 3
   },
   "file_extension": ".py",
   "mimetype": "text/x-python",
   "name": "python",
   "nbconvert_exporter": "python",
   "pygments_lexer": "ipython3",
   "version": "3.12.1"
  }
 },
 "nbformat": 4,
 "nbformat_minor": 5
}
